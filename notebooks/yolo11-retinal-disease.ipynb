{
 "cells": [
  {
   "cell_type": "markdown",
   "metadata": {},
   "source": [
    "## Introduction"
   ]
  },
  {
   "cell_type": "markdown",
   "metadata": {
    "id": "eO4jp3hX8dhj"
   },
   "source": [
    "## Setup"
   ]
  },
  {
   "cell_type": "markdown",
   "metadata": {
    "id": "gfvTJ0-ejc33"
   },
   "source": [
    "### Configure API keys\n",
    "\n",
    "To fine-tune YOLO11, you need to provide your Roboflow API key. Follow these steps:\n",
    "\n",
    "- Go to your [`Roboflow Settings`](https://app.roboflow.com/settings/api) page. Click `Copy`. This will place your private key in the clipboard.\n",
    "- In Colab, go to the left pane and click on `Secrets` (🔑). Store Roboflow API Key under the name `ROBOFLOW_API_KEY`."
   ]
  },
  {
   "cell_type": "markdown",
   "metadata": {
    "id": "FyRdDYkqAKN4"
   },
   "source": [
    "### Before you start\n",
    "\n",
    "Let's make sure that we have access to GPU. We can use `nvidia-smi` command to do that. In case of any problems navigate to `Edit` -> `Notebook settings` -> `Hardware accelerator`, set it to `GPU`, and then click `Save`."
   ]
  },
  {
   "cell_type": "code",
   "execution_count": null,
   "metadata": {
    "execution": {
     "iopub.execute_input": "2024-12-15T21:42:52.205678Z",
     "iopub.status.busy": "2024-12-15T21:42:52.204734Z",
     "iopub.status.idle": "2024-12-15T21:42:53.333622Z",
     "shell.execute_reply": "2024-12-15T21:42:53.332270Z",
     "shell.execute_reply.started": "2024-12-15T21:42:52.205624Z"
    },
    "trusted": true
   },
   "outputs": [],
   "source": [
    "!nvidia-smi"
   ]
  },
  {
   "attachments": {},
   "cell_type": "markdown",
   "metadata": {
    "id": "fcvTRlHH8n5V"
   },
   "source": [
    "**NOTE:** To make it easier for us to manage datasets, images and models we create a `HOME` constant."
   ]
  },
  {
   "cell_type": "code",
   "execution_count": null,
   "metadata": {
    "execution": {
     "iopub.execute_input": "2024-12-15T21:43:00.680763Z",
     "iopub.status.busy": "2024-12-15T21:43:00.679850Z",
     "iopub.status.idle": "2024-12-15T21:43:00.685513Z",
     "shell.execute_reply": "2024-12-15T21:43:00.684650Z",
     "shell.execute_reply.started": "2024-12-15T21:43:00.680726Z"
    },
    "trusted": true
   },
   "outputs": [],
   "source": [
    "# Print the current working directory\n",
    "import os\n",
    "HOME = os.getcwd()\n",
    "print(HOME)"
   ]
  },
  {
   "cell_type": "markdown",
   "metadata": {},
   "source": [
    "## Install YOLO11 via Ultralytics"
   ]
  },
  {
   "cell_type": "code",
   "execution_count": null,
   "metadata": {
    "colab": {
     "base_uri": "https://localhost:8080/"
    },
    "execution": {
     "iopub.execute_input": "2024-12-15T21:43:05.496555Z",
     "iopub.status.busy": "2024-12-15T21:43:05.496232Z",
     "iopub.status.idle": "2024-12-15T21:43:19.955580Z",
     "shell.execute_reply": "2024-12-15T21:43:19.954870Z",
     "shell.execute_reply.started": "2024-12-15T21:43:05.496527Z"
    },
    "id": "tdSMcABDNKW-",
    "outputId": "daf1c9f5-3bb6-4932-80fc-a69a101f9794",
    "trusted": true
   },
   "outputs": [],
   "source": [
    "%pip install -q --upgrade ultralytics supervision roboflow\n",
    "import ultralytics\n",
    "\n",
    "# Check the installation\n",
    "ultralytics.checks()"
   ]
  },
  {
   "cell_type": "markdown",
   "metadata": {
    "id": "oSI-qYxsG6Wl"
   },
   "source": [
    "## Fine-tune YOLO11 on custom dataset"
   ]
  },
  {
   "cell_type": "markdown",
   "metadata": {
    "id": "YGOP0bCgH4cb"
   },
   "source": [
    "**NOTE:** When training YOLOv11, make sure your data is located in `datasets`. If you'd like to change the default location of the data you want to use for fine-tuning, you can do so through Ultralytics' `settings.json`. In this tutorial, we will use one of the [datasets](https://universe.roboflow.com/liangdianzhong/-qvdww) available on [Roboflow Universe](https://universe.roboflow.com/). When downloading, make sure to select the `yolov11` export format."
   ]
  },
  {
   "cell_type": "code",
   "execution_count": null,
   "metadata": {
    "colab": {
     "base_uri": "https://localhost:8080/"
    },
    "execution": {
     "iopub.execute_input": "2024-12-15T21:43:34.798212Z",
     "iopub.status.busy": "2024-12-15T21:43:34.797786Z",
     "iopub.status.idle": "2024-12-15T21:43:39.582001Z",
     "shell.execute_reply": "2024-12-15T21:43:39.581105Z",
     "shell.execute_reply.started": "2024-12-15T21:43:34.798181Z"
    },
    "id": "BSd93ZJzZZKt",
    "outputId": "0b202b45-346d-4d1b-c3d5-845627d7063c",
    "trusted": true
   },
   "outputs": [],
   "source": [
    "!mkdir {HOME}/datasets\n",
    "%cd {HOME}/datasets\n",
    "\n",
    "from kaggle_secrets import UserSecretsClient\n",
    "from roboflow import Roboflow\n",
    "\n",
    "# Get the Roboflow API key\n",
    "roboflow_secret_value = UserSecretsClient().get_secret(\"ROBOFLOW_SECRET_KEY\")\n",
    "rf = Roboflow(api_key=roboflow_secret_value)\n",
    "\n",
    "# Download the dataset\n",
    "project = rf.workspace(\"ben10-zvdpq\").project(\"eye-retinal-disease\")\n",
    "version = project.version(1)\n",
    "dataset = version.download(\"yolov11\")              "
   ]
  },
  {
   "cell_type": "markdown",
   "metadata": {
    "id": "YUjFBKKqXa-u"
   },
   "source": [
    "### Custom Training"
   ]
  },
  {
   "cell_type": "code",
   "execution_count": null,
   "metadata": {
    "execution": {
     "iopub.execute_input": "2024-12-15T21:44:04.786769Z",
     "iopub.status.busy": "2024-12-15T21:44:04.786122Z",
     "iopub.status.idle": "2024-12-15T23:37:26.552776Z",
     "shell.execute_reply": "2024-12-15T23:37:26.551711Z",
     "shell.execute_reply.started": "2024-12-15T21:44:04.786733Z"
    },
    "id": "D2YkphuiaE7_",
    "trusted": true
   },
   "outputs": [],
   "source": [
    "%cd {HOME}\n",
    "\n",
    "# Train the model using the downloaded dataset and the YOLO11 medium model with other parameters\n",
    "!yolo task=detect mode=train model=yolo11m.pt data={dataset.location}/data.yaml epochs=50 imgsz=640 plots=True"
   ]
  },
  {
   "cell_type": "markdown",
   "metadata": {},
   "source": [
    "NOTE: The results of the completed training are saved in {HOME}/runs/detect/train/. Let's examine them.\n",
    "\n"
   ]
  },
  {
   "cell_type": "code",
   "execution_count": null,
   "metadata": {
    "execution": {
     "iopub.execute_input": "2024-12-15T23:37:49.544845Z",
     "iopub.status.busy": "2024-12-15T23:37:49.544236Z",
     "iopub.status.idle": "2024-12-15T23:37:50.544391Z",
     "shell.execute_reply": "2024-12-15T23:37:50.543334Z",
     "shell.execute_reply.started": "2024-12-15T23:37:49.544809Z"
    },
    "trusted": true
   },
   "outputs": [],
   "source": [
    "# Check the training results\n",
    "!ls {HOME}/runs/detect/train/"
   ]
  },
  {
   "cell_type": "code",
   "execution_count": null,
   "metadata": {
    "colab": {
     "base_uri": "https://localhost:8080/",
     "height": 467
    },
    "execution": {
     "iopub.execute_input": "2024-12-15T23:38:09.254524Z",
     "iopub.status.busy": "2024-12-15T23:38:09.253761Z",
     "iopub.status.idle": "2024-12-15T23:38:09.269739Z",
     "shell.execute_reply": "2024-12-15T23:38:09.268740Z",
     "shell.execute_reply.started": "2024-12-15T23:38:09.254486Z"
    },
    "id": "_J35i8Ofhjxa",
    "outputId": "d8d323f1-63bb-4676-8f59-f2eadaee0ea7",
    "trusted": true
   },
   "outputs": [],
   "source": [
    "from IPython.display import Image as IPyImage\n",
    "\n",
    "# Display the confusion matrix plot\n",
    "IPyImage(filename=f\"{HOME}/runs/detect/train/confusion_matrix.png\", width=600)"
   ]
  },
  {
   "cell_type": "code",
   "execution_count": null,
   "metadata": {
    "colab": {
     "base_uri": "https://localhost:8080/",
     "height": 317
    },
    "execution": {
     "iopub.execute_input": "2024-12-15T23:38:25.265102Z",
     "iopub.status.busy": "2024-12-15T23:38:25.264778Z",
     "iopub.status.idle": "2024-12-15T23:38:25.277519Z",
     "shell.execute_reply": "2024-12-15T23:38:25.276644Z",
     "shell.execute_reply.started": "2024-12-15T23:38:25.265074Z"
    },
    "id": "A-urTWUkhRmn",
    "outputId": "897c36ef-6309-4257-eab6-f24c70d31fbd",
    "trusted": true
   },
   "outputs": [],
   "source": [
    "# Display the training results plot\n",
    "IPyImage(filename=f\"{HOME}/runs/detect/train/results.png\", width=600)"
   ]
  },
  {
   "cell_type": "code",
   "execution_count": null,
   "metadata": {
    "colab": {
     "base_uri": "https://localhost:8080/",
     "height": 361
    },
    "execution": {
     "iopub.execute_input": "2024-12-15T23:40:53.666434Z",
     "iopub.status.busy": "2024-12-15T23:40:53.665907Z",
     "iopub.status.idle": "2024-12-15T23:40:53.682330Z",
     "shell.execute_reply": "2024-12-15T23:40:53.681442Z",
     "shell.execute_reply.started": "2024-12-15T23:40:53.666382Z"
    },
    "id": "HI4nADCCj3F5",
    "outputId": "233318f8-871c-4ee9-f3e0-91a2779d056a",
    "trusted": true
   },
   "outputs": [],
   "source": [
    "# Display the validation batched prediction plot\n",
    "IPyImage(filename=f\"{HOME}/runs/detect/train/val_batch0_pred.jpg\", width=600)"
   ]
  },
  {
   "cell_type": "markdown",
   "metadata": {
    "id": "6ODk1VTlevxn"
   },
   "source": [
    "### Validate fine-tuned model"
   ]
  },
  {
   "cell_type": "code",
   "execution_count": null,
   "metadata": {
    "colab": {
     "base_uri": "https://localhost:8080/"
    },
    "execution": {
     "iopub.execute_input": "2024-12-15T23:41:15.821865Z",
     "iopub.status.busy": "2024-12-15T23:41:15.821052Z",
     "iopub.status.idle": "2024-12-15T23:41:51.587213Z",
     "shell.execute_reply": "2024-12-15T23:41:51.586056Z",
     "shell.execute_reply.started": "2024-12-15T23:41:15.821831Z"
    },
    "id": "YpyuwrNlXc1P",
    "outputId": "3de51aa2-03d3-41d3-eb69-e1bb06461c7a",
    "trusted": true
   },
   "outputs": [],
   "source": [
    "# Evaluate the model using the validation dataset and the best weights\n",
    "!yolo task=detect mode=val model={HOME}/runs/detect/train/weights/best.pt data={dataset.location}/data.yaml"
   ]
  },
  {
   "cell_type": "markdown",
   "metadata": {
    "id": "i4eASbcWkQBq"
   },
   "source": [
    "### Inference with custom model"
   ]
  },
  {
   "cell_type": "code",
   "execution_count": null,
   "metadata": {
    "execution": {
     "iopub.execute_input": "2024-12-15T23:43:00.306674Z",
     "iopub.status.busy": "2024-12-15T23:43:00.306000Z",
     "iopub.status.idle": "2024-12-15T23:43:17.634912Z",
     "shell.execute_reply": "2024-12-15T23:43:17.633809Z",
     "shell.execute_reply.started": "2024-12-15T23:43:00.306639Z"
    },
    "id": "Wjc1ctZykYuf",
    "trusted": true
   },
   "outputs": [],
   "source": [
    "# Predict the test dataset using the best weights\n",
    "!yolo task=detect mode=predict model={HOME}/runs/detect/train/weights/best.pt conf=0.25 source={dataset.location}/test/images save=True"
   ]
  },
  {
   "cell_type": "markdown",
   "metadata": {},
   "source": [
    "NOTE: Let's take a look at few results.\n",
    "\n"
   ]
  },
  {
   "cell_type": "code",
   "execution_count": null,
   "metadata": {
    "execution": {
     "iopub.execute_input": "2024-12-15T23:43:32.518286Z",
     "iopub.status.busy": "2024-12-15T23:43:32.517485Z",
     "iopub.status.idle": "2024-12-15T23:43:32.534704Z",
     "shell.execute_reply": "2024-12-15T23:43:32.533918Z",
     "shell.execute_reply.started": "2024-12-15T23:43:32.518252Z"
    },
    "trusted": true
   },
   "outputs": [],
   "source": [
    "import glob\n",
    "from IPython.display import Image as IPyImage, display\n",
    "\n",
    "# Get the latest prediction folder\n",
    "latest_folder = max(glob.glob(f\"{HOME}/runs/detect/predict*/\"), key=os.path.getmtime)\n",
    "\n",
    "# Display the first 3 images from the test dataset\n",
    "for img in glob.glob(f\"{latest_folder}/*.jpg\")[:3]:\n",
    "    display(IPyImage(filename=img, width=600))\n",
    "    print(\"\\n\")"
   ]
  },
  {
   "cell_type": "markdown",
   "metadata": {
    "id": "wqrZUG5e2_It"
   },
   "source": [
    "## Conclusion"
   ]
  }
 ],
 "metadata": {
  "accelerator": "GPU",
  "colab": {
   "provenance": []
  },
  "gpuClass": "standard",
  "kaggle": {
   "accelerator": "nvidiaTeslaT4",
   "dataSources": [],
   "dockerImageVersionId": 30805,
   "isGpuEnabled": true,
   "isInternetEnabled": true,
   "language": "python",
   "sourceType": "notebook"
  },
  "kernelspec": {
   "display_name": "Python 3",
   "language": "python",
   "name": "python3"
  },
  "language_info": {
   "codemirror_mode": {
    "name": "ipython",
    "version": 3
   },
   "file_extension": ".py",
   "mimetype": "text/x-python",
   "name": "python",
   "nbconvert_exporter": "python",
   "pygments_lexer": "ipython3",
   "version": "3.10.14"
  }
 },
 "nbformat": 4,
 "nbformat_minor": 4
}
